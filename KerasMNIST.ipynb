{
  "cells": [
    {
      "cell_type": "code",
      "execution_count": 65,
      "id": "bb7793fa",
      "metadata": {
        "id": "bb7793fa"
      },
      "outputs": [],
      "source": [
        "from tensorflow.keras.datasets import fashion_mnist\n",
        "from tensorflow.keras import layers,models,losses\n",
        "from tensorflow.keras.optimizers import SGD, Adam\n",
        "from tensorflow.keras import utils\n",
        "from tensorflow import keras\n",
        "import tensorflow as tf\n",
        "import numpy as np"
      ]
    },
    {
      "cell_type": "code",
      "execution_count": 82,
      "id": "7f3c2f9d",
      "metadata": {
        "colab": {
          "base_uri": "https://localhost:8080/"
        },
        "id": "7f3c2f9d",
        "outputId": "6fc250b9-c421-4fad-b191-a1b46b75f8e7"
      },
      "outputs": [
        {
          "output_type": "execute_result",
          "data": {
            "text/plain": [
              "(28, 28)"
            ]
          },
          "metadata": {},
          "execution_count": 82
        }
      ],
      "source": [
        "(x_train, y_train), (x_test, y_test) = keras.datasets.mnist.load_data()\n",
        "\n",
        "classes = [0,1,2,3,4,5,6,7,8,9]\n",
        "\n",
        "x_train = x_train / 255 \n",
        "x_test = x_test / 255 \n",
        "\n",
        "y_train = utils.to_categorical(y_train, 10)\n",
        "y_test = utils.to_categorical(y_test, 10)\n",
        "\n",
        "x_train[0].shape"
      ]
    },
    {
      "cell_type": "code",
      "execution_count": 83,
      "id": "5cf2455a",
      "metadata": {
        "colab": {
          "base_uri": "https://localhost:8080/"
        },
        "id": "5cf2455a",
        "outputId": "af2bbe56-111b-48df-980f-e4414221a615"
      },
      "outputs": [
        {
          "output_type": "stream",
          "name": "stdout",
          "text": [
            "Model: \"sequential_36\"\n",
            "_________________________________________________________________\n",
            " Layer (type)                Output Shape              Param #   \n",
            "=================================================================\n",
            " conv2d_105 (Conv2D)         (None, 28, 28, 6)         156       \n",
            "                                                                 \n",
            " average_pooling2d_16 (Avera  (None, 14, 14, 6)        0         \n",
            " gePooling2D)                                                    \n",
            "                                                                 \n",
            " conv2d_106 (Conv2D)         (None, 10, 10, 16)        2416      \n",
            "                                                                 \n",
            " average_pooling2d_17 (Avera  (None, 5, 5, 16)         0         \n",
            " gePooling2D)                                                    \n",
            "                                                                 \n",
            " conv2d_107 (Conv2D)         (None, 1, 1, 120)         48120     \n",
            "                                                                 \n",
            " flatten_29 (Flatten)        (None, 120)               0         \n",
            "                                                                 \n",
            " dense_75 (Dense)            (None, 84)                10164     \n",
            "                                                                 \n",
            " dropout_20 (Dropout)        (None, 84)                0         \n",
            "                                                                 \n",
            " dense_76 (Dense)            (None, 10)                850       \n",
            "                                                                 \n",
            "=================================================================\n",
            "Total params: 61,706\n",
            "Trainable params: 61,706\n",
            "Non-trainable params: 0\n",
            "_________________________________________________________________\n",
            "None\n"
          ]
        }
      ],
      "source": [
        "model = keras.models.Sequential([\n",
        "    keras.layers.Conv2D(6, kernel_size=5, strides=1,  activation='tanh', input_shape=(28,28,1), padding='same'), \n",
        "    keras.layers.AveragePooling2D(), \n",
        "    keras.layers.Conv2D(16, kernel_size=5, strides=1, activation='tanh', padding='valid'), \n",
        "    keras.layers.AveragePooling2D(), \n",
        "    keras.layers.Conv2D(120, kernel_size=5, strides=1, activation='tanh', padding='valid'), \n",
        "    keras.layers.Flatten(),\n",
        "    keras.layers.Dense(84, activation='tanh'), \n",
        "    keras.layers.Dropout(0.4),\n",
        "    keras.layers.Dense(10, activation='softmax') \n",
        "])\n",
        "model.compile(loss=keras.losses.sparse_categorical_crossentropy, \n",
        "              optimizer=\"Adam\", \n",
        "              metrics=[\"accuracy\"])\n",
        "\n",
        "print(model.summary())"
      ]
    },
    {
      "cell_type": "code",
      "source": [
        "model.compile(loss=\"categorical_crossentropy\", \n",
        "              optimizer=\"Adam\", \n",
        "              metrics=[\"accuracy\"])\n",
        "\n",
        "history = model.fit(x_train, y_train, \n",
        "                    batch_size=100, \n",
        "                    epochs=7,\n",
        "                    validation_split=0.05,\n",
        "                    verbose=1)\n",
        "\n",
        "scores = model.evaluate(x_test, y_test, verbose=1)\n",
        "print(\"Доля верных ответов на тестовых данных, в процентах:\", round(scores[1] * 100, 4))"
      ],
      "metadata": {
        "colab": {
          "base_uri": "https://localhost:8080/"
        },
        "id": "ZfZFNrtrQaIN",
        "outputId": "f8f9ca2a-6a8f-408e-93d0-93674b1cac8c"
      },
      "id": "ZfZFNrtrQaIN",
      "execution_count": 84,
      "outputs": [
        {
          "output_type": "stream",
          "name": "stdout",
          "text": [
            "Epoch 1/7\n",
            "570/570 [==============================] - 3s 4ms/step - loss: 0.3755 - accuracy: 0.8872 - val_loss: 0.1219 - val_accuracy: 0.9637\n",
            "Epoch 2/7\n",
            "570/570 [==============================] - 2s 4ms/step - loss: 0.1433 - accuracy: 0.9567 - val_loss: 0.0700 - val_accuracy: 0.9820\n",
            "Epoch 3/7\n",
            "570/570 [==============================] - 2s 4ms/step - loss: 0.0969 - accuracy: 0.9708 - val_loss: 0.0535 - val_accuracy: 0.9847\n",
            "Epoch 4/7\n",
            "570/570 [==============================] - 2s 4ms/step - loss: 0.0741 - accuracy: 0.9774 - val_loss: 0.0501 - val_accuracy: 0.9863\n",
            "Epoch 5/7\n",
            "570/570 [==============================] - 2s 4ms/step - loss: 0.0608 - accuracy: 0.9821 - val_loss: 0.0484 - val_accuracy: 0.9877\n",
            "Epoch 6/7\n",
            "570/570 [==============================] - 2s 4ms/step - loss: 0.0490 - accuracy: 0.9847 - val_loss: 0.0464 - val_accuracy: 0.9873\n",
            "Epoch 7/7\n",
            "570/570 [==============================] - 2s 4ms/step - loss: 0.0439 - accuracy: 0.9864 - val_loss: 0.0478 - val_accuracy: 0.9877\n",
            "313/313 [==============================] - 1s 3ms/step - loss: 0.0456 - accuracy: 0.9856\n",
            "Доля верных ответов на тестовых данных, в процентах: 98.56\n"
          ]
        }
      ]
    }
  ],
  "metadata": {
    "kernelspec": {
      "display_name": "Python 3 (ipykernel)",
      "language": "python",
      "name": "python3"
    },
    "language_info": {
      "codemirror_mode": {
        "name": "ipython",
        "version": 3
      },
      "file_extension": ".py",
      "mimetype": "text/x-python",
      "name": "python",
      "nbconvert_exporter": "python",
      "pygments_lexer": "ipython3",
      "version": "3.10.4"
    },
    "colab": {
      "name": "KerasMNIST.ipynb",
      "provenance": [],
      "collapsed_sections": []
    },
    "accelerator": "GPU"
  },
  "nbformat": 4,
  "nbformat_minor": 5
}